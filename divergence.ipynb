{
 "cells": [
  {
   "cell_type": "markdown",
   "metadata": {},
   "source": [
    "# Calculate divergence and plot it"
   ]
  },
  {
   "cell_type": "code",
   "execution_count": 1,
   "metadata": {},
   "outputs": [],
   "source": [
    "from vem import vem, plot_solution\n",
    "import numpy as np\n",
    "\n",
    "\n",
    "# Definition of the harmonic function\n",
    "real_solution = lambda x, y: np.exp(x)*np.sin(y)\n",
    "domain_rhs = lambda point: 0\n",
    "domain_boundary_condition = lambda points: real_solution(points[:, 0], points[:, 1])\n",
    "\n",
    "# Size of the mesh\n",
    "mesh1_num = 500\n",
    "mesh2_num = 5000\n",
    "mesh3_num = 10000\n",
    "\n",
    "folder = \"polyllaMeshes/\"\n",
    "\n",
    "# Meshes\n",
    "filemesh1 = folder + str(mesh1_num) + \"uniform.polylla.mat\"\n",
    "filemesh2 = folder + str(mesh2_num) + \"uniform.polylla.mat\"\n",
    "filemesh3 = folder + str(mesh3_num) + \"uniform.polylla.mat\"\n"
   ]
  },
  {
   "cell_type": "markdown",
   "metadata": {},
   "source": [
    "## Calculation of the divergence\n",
    "\n",
    "Para calcular la div se aplica la formula \n",
    "\n",
    "$$e^2_\\Omega = \\sum_{t\\in T} A_t \\cdot (\\tilde{u_t} - u(\\overrightarrow{c_t}))^2$$\n",
    "\n",
    "Por lo que a cada elemento de Polylla, se triangula y se calcula el area de cada triangulo. Luego se calcula el centroide de cada triangulo y se calcula la diferencia entre el valor de la solucion en el centroide y el valor de la solucion en el centroide de la malla original. Finalmente se calcula el producto punto entre el vector normal al triangulo y el vector diferencia.\n",
    "\n",
    "El comentario de arriba los hizo copilot, no yo. Este igual lakdlasdklaskl"
   ]
  },
  {
   "cell_type": "code",
   "execution_count": 2,
   "metadata": {},
   "outputs": [],
   "source": [
    "import scipy.io\n",
    "import triangle as triangle_quake\n",
    "\n",
    "def get_error_mesh(mesh_file, real_solution, aprox_solution):\n",
    "    u_sol_triangle_centroid = []\n",
    "    area_triangles = []\n",
    "    u_chancho_triangles = []\n",
    "\n",
    "    mesh =  scipy.io.loadmat(mesh_file)\n",
    "    elements_mesh =  np.array([i[0].reshape(-1) - 1 for i in mesh['elements']])\n",
    "    vertices_mesh = mesh['vertices']\n",
    "\n",
    "    for el in elements_mesh:\n",
    "        t = triangle_quake.triangulate({'vertices': vertices_mesh[el], 'segments': [(i, (i+1) % len(el) )  for i in range(len(el))] }, 'p')\n",
    "        triangles = t['triangles']\n",
    "        vertices = vertices_mesh[el]\n",
    "        for trian in triangles:\n",
    "            #Get 3 vertices of the triangle\n",
    "            points =  np.array([ np.array([vertices[i][0], vertices[i][1]]) for i in trian])\n",
    "            #Get the solution in the 3 vertices of the triangle, summ all the values and divide by 3\n",
    "            u_chancho_t = np.sum(np.array([aprox_solution[np.where(np.all(vertices_mesh==p,axis=1))[0]] for p in points]))/3\n",
    "            u_chancho_triangles.append(u_chancho_t)\n",
    "            #Get the area of the triangle\n",
    "            area_t = np.linalg.norm(np.cross(points[1]-points[0], points[2]-points[0]))/2\n",
    "            area_triangles.append(area_t)\n",
    "\n",
    "            #calculate center of mass of the triangle\n",
    "            center = np.sum(points, axis=0)/3\n",
    "            #calculate the solution in the centroid of the triangle\n",
    "            u_sol_triangle_centroid.append(real_solution(center[0], center[1]))\n",
    "\n",
    "    e_mesh3 = np.sqrt(np.sum( np.array(area_triangles)*(np.array(u_sol_triangle_centroid) - np.array(u_chancho_triangles))**2))\n",
    "    return e_mesh3, len(elements_mesh)\n"
   ]
  },
  {
   "cell_type": "code",
   "execution_count": 3,
   "metadata": {},
   "outputs": [],
   "source": [
    "u_1 = vem(filemesh1, domain_rhs, domain_boundary_condition)\n",
    "u_2 = vem(filemesh2, domain_rhs, domain_boundary_condition)\n",
    "u_3 = vem(filemesh3, domain_rhs, domain_boundary_condition)\n"
   ]
  },
  {
   "cell_type": "code",
   "execution_count": 4,
   "metadata": {},
   "outputs": [
    {
     "name": "stdout",
     "output_type": "stream",
     "text": [
      "Error mesh 1:  0.00035445135789198616\n",
      "Error mesh 2:  3.6035490991812565e-05\n",
      "Error mesh 3:  0.915614683497575\n"
     ]
    }
   ],
   "source": [
    "e_mesh1, n_mesh1 = get_error_mesh(filemesh1, real_solution, u_1)\n",
    "e_mesh2, n_mesh2 = get_error_mesh(filemesh2, real_solution, u_2)\n",
    "e_mesh3, n_mesh3 = get_error_mesh(filemesh3, real_solution, u_3)\n",
    "\n",
    "print(\"Error mesh 1: \", e_mesh1)\n",
    "print(\"Error mesh 2: \", e_mesh2)\n",
    "print(\"Error mesh 3: \", e_mesh3)"
   ]
  },
  {
   "cell_type": "markdown",
   "metadata": {},
   "source": [
    "## Plot divergence"
   ]
  },
  {
   "cell_type": "code",
   "execution_count": 5,
   "metadata": {},
   "outputs": [
    {
     "data": {
      "text/plain": [
       "Text(0, 0.5, 'ln($e_\\\\Omega$)')"
      ]
     },
     "execution_count": 5,
     "metadata": {},
     "output_type": "execute_result"
    },
    {
     "data": {
      "image/png": "[encoded data removed]",
      "text/plain": [
       "<Figure size 640x480 with 1 Axes>"
      ]
     },
     "metadata": {},
     "output_type": "display_data"
    }
   ],
   "source": [
    "from matplotlib import pyplot as plt\n",
    "\n",
    "x = np.array([n_mesh1, n_mesh2, n_mesh3])\n",
    "y = np.array([e_mesh1, e_mesh2, e_mesh3])\n",
    "\n",
    "plt.plot(np.log(x), np.log(np.sqrt(y)), '-ok')\n",
    "plt.xlabel('ln($\\sqrt{\\# Elements}$)')\n",
    "plt.ylabel('ln($e_\\Omega$)')\n"
   ]
  }
 ],
 "metadata": {
  "kernelspec": {
   "display_name": "Python 3.10.7 64-bit",
   "language": "python",
   "name": "python3"
  },
  "language_info": {
   "codemirror_mode": {
    "name": "ipython",
    "version": 3
   },
   "file_extension": ".py",
   "mimetype": "text/x-python",
   "name": "python",
   "nbconvert_exporter": "python",
   "pygments_lexer": "ipython3",
   "version": "3.10.7"
  },
  "orig_nbformat": 4,
  "vscode": {
   "interpreter": {
    "hash": "8f6a389a8917a11fb6ac3c0d831250fb3f4fd2b20a5aeecb1118ba5000e47258"
   }
  }
 },
 "nbformat": 4,
 "nbformat_minor": 2
}
